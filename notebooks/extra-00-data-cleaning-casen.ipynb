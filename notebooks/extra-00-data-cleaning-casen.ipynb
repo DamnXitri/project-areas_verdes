{
 "cells": [
  {
   "cell_type": "markdown",
   "metadata": {},
   "source": [
    "# Taller de Carga y Exploración Simple de de Datos\n"
   ]
  },
  {
   "cell_type": "code",
   "execution_count": null,
   "metadata": {},
   "outputs": [],
   "source": [
    "try:\n",
    "    import google.colab\n",
    "    !pip uninstall matplotlib -y\n",
    "    !pip install -q condacolab\n",
    "    \n",
    "    import condacolab\n",
    "    condacolab.install_mambaforge()\n",
    "except ModuleNotFoundError:\n",
    "    pass"
   ]
  },
  {
   "cell_type": "code",
   "execution_count": null,
   "metadata": {},
   "outputs": [],
   "source": [
    "try:\n",
    "    import google.colab\n",
    "    !git clone https://github.com/zorzalerrante/aves.git aves_git\n",
    "    !mamba env update --name base --file aves_git/environment-colab.yml\n",
    "except ModuleNotFoundError:\n",
    "    pass"
   ]
  },
  {
   "cell_type": "code",
   "execution_count": null,
   "metadata": {},
   "outputs": [],
   "source": [
    "!cd aves_git\n",
    "!make download-external\n",
    "!cd .."
   ]
  },
  {
   "cell_type": "code",
   "execution_count": null,
   "metadata": {},
   "outputs": [],
   "source": [
    "import sys\n",
    "from pathlib import Path\n",
    "\n",
    "AVES_ROOT = Path(\"..\") if not 'google.colab' in sys.modules else Path(\"aves_git\")\n",
    "DATA_PATH = AVES_ROOT / \"data\" / \"external\"\n",
    "DATA_PATH"
   ]
  },
  {
   "cell_type": "code",
   "execution_count": null,
   "metadata": {},
   "outputs": [],
   "source": [
    "import matplotlib as mpl\n",
    "import matplotlib.pyplot as plt\n",
    "import numpy as np\n",
    "import pandas as pd\n",
    "import seaborn as sns\n",
    "from gensim.utils import deaccent\n",
    "\n",
    "sns.set(\n",
    "    style=\"whitegrid\", context=\"paper\", font_scale=0.8, font=\"Fira Sans Extra Condensed\"\n",
    ")\n",
    "mpl.rcParams[\"figure.dpi\"] = 120\n"
   ]
  },
  {
   "cell_type": "markdown",
   "metadata": {},
   "source": [
    "Para entender la CASEN:\n",
    "\n",
    "http://observatorio.ministeriodesarrollosocial.gob.cl/storage/docs/casen/2017/Libro_de_Codigos_Casen_2017.pdf\n",
    "http://observatorio.ministeriodesarrollosocial.gob.cl/storage/docs/casen/2020/Libro_de_codigos_Base_de_Datos_Casen_en_Pandemia_2020.pdf\n",
    "\n",
    "Códigos de comunas:\n",
    "http://www.subdere.gov.cl/documentacion/c%C3%B3digos-%C3%BAnicos-territoriales-actualizados-al-06-de-septiembre-2018"
   ]
  },
  {
   "cell_type": "code",
   "execution_count": null,
   "metadata": {},
   "outputs": [],
   "source": [
    "casen = pd.read_stata(DATA_PATH / \"casen_2017/Casen 2017.dta\", convert_categoricals=False)\n",
    "casen.head()\n"
   ]
  },
  {
   "cell_type": "code",
   "execution_count": null,
   "metadata": {},
   "outputs": [],
   "source": [
    "comunas = casen[\"comuna\"].unique().astype(int)\n",
    "comunas\n"
   ]
  },
  {
   "cell_type": "code",
   "execution_count": null,
   "metadata": {},
   "outputs": [],
   "source": [
    "len(comunas)\n"
   ]
  },
  {
   "cell_type": "code",
   "execution_count": null,
   "metadata": {},
   "outputs": [],
   "source": [
    "casen_2020 = pd.read_stata(\n",
    "    DATA_PATH / \"casen_2020/Casen en Pandemia 2020 STATA.dta\"\n",
    ")\n",
    "casen_2020.head()\n"
   ]
  },
  {
   "cell_type": "code",
   "execution_count": null,
   "metadata": {},
   "outputs": [],
   "source": [
    "elecciones = pd.read_csv(\n",
    "    DATA_PATH / \"presidenciales_2021/Servel_20211121_PRESIDENCIALES_CHILE.csv\",\n",
    "    sep=\";\",\n",
    ")\n",
    "elecciones.head()\n"
   ]
  },
  {
   "cell_type": "code",
   "execution_count": null,
   "metadata": {},
   "outputs": [],
   "source": [
    "codes = pd.read_excel(\n",
    "    DATA_PATH / \"CUT_2018_v04.xls\"\n",
    ")\n",
    "codes\n"
   ]
  },
  {
   "cell_type": "code",
   "execution_count": null,
   "metadata": {},
   "outputs": [],
   "source": [
    "elecciones.columns"
   ]
  },
  {
   "cell_type": "code",
   "execution_count": null,
   "metadata": {},
   "outputs": [],
   "source": [
    "elecciones[\"votos_preliminar_string\"].astype(int)\n"
   ]
  },
  {
   "cell_type": "code",
   "execution_count": null,
   "metadata": {},
   "outputs": [],
   "source": [
    "elecciones[\"votos_preliminar_string\"].str.strip().astype(int)\n"
   ]
  },
  {
   "cell_type": "code",
   "execution_count": null,
   "metadata": {},
   "outputs": [],
   "source": [
    "for idx, row in elecciones.iterrows():\n",
    "    try:\n",
    "        int(row[\"votos_preliminar_string\"])\n",
    "    except:\n",
    "        print(repr(row[\"votos_preliminar_string\"]))\n",
    "        break\n"
   ]
  },
  {
   "cell_type": "code",
   "execution_count": null,
   "metadata": {},
   "outputs": [],
   "source": [
    "for idx, row in elecciones.iterrows():\n",
    "    try:\n",
    "        int(row[\"votos_preliminar_string\"].strip())\n",
    "    except:\n",
    "        print(repr(row[\"votos_preliminar_string\"].strip()))\n",
    "        break\n"
   ]
  },
  {
   "cell_type": "code",
   "execution_count": null,
   "metadata": {},
   "outputs": [],
   "source": [
    "elecciones[\"votos_preliminar_string_strip\"] = (\n",
    "    elecciones[\"votos_preliminar_string\"].str.strip().str.replace(r\"^$\", \"0\").astype(int)\n",
    ")\n"
   ]
  },
  {
   "cell_type": "code",
   "execution_count": null,
   "metadata": {},
   "outputs": [],
   "source": [
    "elecciones[\"votos_preliminar_string_strip\"].describe()\n"
   ]
  },
  {
   "cell_type": "code",
   "execution_count": null,
   "metadata": {},
   "outputs": [],
   "source": [
    "elecciones.groupby(\"candidato\")[\"votos_preliminar_string_strip\"].sum()\n"
   ]
  },
  {
   "cell_type": "code",
   "execution_count": null,
   "metadata": {},
   "outputs": [],
   "source": [
    "elecciones[\"comuna_nombre\"]\n"
   ]
  },
  {
   "cell_type": "code",
   "execution_count": null,
   "metadata": {},
   "outputs": [],
   "source": [
    "elecciones[\"comuna_nombre\"] = elecciones[\"comuna_nombre\"].str.strip()\n",
    "elecciones[\"comuna_nombre\"]"
   ]
  },
  {
   "cell_type": "code",
   "execution_count": null,
   "metadata": {},
   "outputs": [],
   "source": [
    "turnout = (\n",
    "    elecciones.groupby([\"comuna_nombre\", \"candidato\"])[\"votos_preliminar_string_strip\"]\n",
    "    .sum()\n",
    "    .unstack()\n",
    ")\n",
    "turnout.head()\n"
   ]
  },
  {
   "cell_type": "code",
   "execution_count": null,
   "metadata": {},
   "outputs": [],
   "source": [
    "turnout.columns"
   ]
  },
  {
   "cell_type": "code",
   "execution_count": null,
   "metadata": {},
   "outputs": [],
   "source": [
    "turnout.columns = list(map(lambda x: x.strip(), turnout.columns))\n",
    "turnout.columns\n"
   ]
  },
  {
   "cell_type": "code",
   "execution_count": null,
   "metadata": {},
   "outputs": [],
   "source": [
    "turnout.sort_values(\"YASNA PROVOSTE CAMPILLAY\", ascending=False)\n"
   ]
  },
  {
   "cell_type": "code",
   "execution_count": null,
   "metadata": {},
   "outputs": [],
   "source": [
    "codes[\"comuna_nombre\"] = codes[\"Nombre Comuna\"].str.upper().map(deaccent)\n",
    "codes[\"comuna_nombre\"]\n"
   ]
  },
  {
   "cell_type": "code",
   "execution_count": null,
   "metadata": {},
   "outputs": [],
   "source": [
    "casen_comunas = casen.join(\n",
    "    codes.set_index(\"Código Comuna 2018\")[\"comuna_nombre\"], on=\"comuna\"\n",
    ")\n",
    "casen_comunas\n"
   ]
  },
  {
   "cell_type": "code",
   "execution_count": null,
   "metadata": {},
   "outputs": [],
   "source": [
    "casen_2020[\"comuna_nombre\"] = casen_2020[\"comuna\"].str.upper().map(deaccent)\n"
   ]
  },
  {
   "cell_type": "code",
   "execution_count": null,
   "metadata": {},
   "outputs": [],
   "source": [
    "poblacion_comunas = (\n",
    "    casen_2020[casen_2020[\"edad\"] >= 17].groupby(\"comuna_nombre\")[\"expr\"].sum()\n",
    ")\n",
    "poblacion_comunas\n"
   ]
  },
  {
   "cell_type": "code",
   "execution_count": null,
   "metadata": {},
   "outputs": [],
   "source": [
    "poblacion_comunas.sum()\n"
   ]
  },
  {
   "cell_type": "code",
   "execution_count": null,
   "metadata": {},
   "outputs": [],
   "source": [
    "candidatos = [\n",
    "    \"EDUARDO ARTES BRICHETTI\",\n",
    "    \"GABRIEL BORIC FONT\",\n",
    "    \"JOSE ANTONIO KAST RIST\",\n",
    "    \"MARCO ENRIQUEZ-OMINAMI GUMUCIO\",\n",
    "    \"FRANCO PARISI FERNANDEZ\",\n",
    "    \"YASNA PROVOSTE CAMPILLAY\",\n",
    "    \"SEBASTIAN SICHEL RAMIREZ\",\n",
    "]\n",
    "\n"
   ]
  },
  {
   "cell_type": "code",
   "execution_count": null,
   "metadata": {},
   "outputs": [],
   "source": [
    "turnout = (\n",
    "    turnout.reset_index()\n",
    "    .assign(comuna_nombre=lambda x: x[\"comuna_nombre\"].map(deaccent))\n",
    "    .set_index(\"comuna_nombre\")[candidatos]\n",
    ")\n"
   ]
  },
  {
   "cell_type": "code",
   "execution_count": null,
   "metadata": {},
   "outputs": [],
   "source": [
    "turnout"
   ]
  },
  {
   "cell_type": "code",
   "execution_count": null,
   "metadata": {},
   "outputs": [],
   "source": [
    "turnout.sum()\n"
   ]
  },
  {
   "cell_type": "code",
   "execution_count": null,
   "metadata": {},
   "outputs": [],
   "source": []
  },
  {
   "cell_type": "code",
   "execution_count": null,
   "metadata": {},
   "outputs": [],
   "source": [
    "comunas_x_ingreso = (\n",
    "    casen_comunas.groupby([\"comuna_nombre\", \"dautr\"])[\"expr\"]\n",
    "    .sum()\n",
    "    .unstack(fill_value=0)\n",
    ")\n",
    "comunas_x_ingreso\n"
   ]
  },
  {
   "cell_type": "code",
   "execution_count": null,
   "metadata": {},
   "outputs": [],
   "source": [
    "comunas_index = turnout.join(comunas_x_ingreso, how=\"inner\").index\n",
    "comunas_index\n"
   ]
  },
  {
   "cell_type": "code",
   "execution_count": null,
   "metadata": {},
   "outputs": [],
   "source": [
    "casen_comunas[\"grupo_etareo\"] = pd.cut(\n",
    "    casen_comunas[\"edad\"], bins=[-1, 17, 25, 35, 45, 55, 65, 75, 85, 95, 120]\n",
    ")\n",
    "comunas_x_edad = (\n",
    "    casen_comunas.groupby([\"comuna_nombre\", \"grupo_etareo\"])[\"expr\"]\n",
    "    .sum()\n",
    "    .unstack(fill_value=0)\n",
    ")\n",
    "comunas_x_edad\n"
   ]
  },
  {
   "cell_type": "code",
   "execution_count": null,
   "metadata": {},
   "outputs": [],
   "source": [
    "comunas_x_oficio = (\n",
    "    casen_2020.groupby([\"comuna_nombre\", \"oficio1_88\"])[\"expr\"]\n",
    "    .sum()\n",
    "    .unstack(fill_value=0)\n",
    ")\n",
    "comunas_x_oficio\n"
   ]
  },
  {
   "cell_type": "code",
   "execution_count": null,
   "metadata": {},
   "outputs": [],
   "source": [
    "from aves.features.utils import normalize_rows\n",
    "\n",
    "normalized_turnout = turnout.pipe(normalize_rows)\n",
    "normalized_work = comunas_x_oficio.pipe(normalize_rows)"
   ]
  },
  {
   "cell_type": "code",
   "execution_count": null,
   "metadata": {},
   "outputs": [],
   "source": [
    "import seaborn as sns\n",
    "\n",
    "\n",
    "sns.clustermap(\n",
    "    normalized_turnout.join(normalized_work)\n",
    "    .corr()\n",
    "    .loc[normalized_turnout.columns, normalized_work.columns], center=0, annot=True\n",
    ")\n"
   ]
  },
  {
   "cell_type": "code",
   "execution_count": null,
   "metadata": {},
   "outputs": [],
   "source": [
    "comunas_x_edad = (\n",
    "    casen_2020[casen_2020[\"edad\"] >= 17]\n",
    "    .assign(\n",
    "        grupo_etareo=lambda x: pd.cut(\n",
    "            x[\"edad\"], bins=[17, 25, 35, 45, 55, 65, 75, 85, 95, 120]\n",
    "        )\n",
    "    )\n",
    "    .groupby([\"comuna_nombre\", \"grupo_etareo\"])[\"expr\"]\n",
    "    .sum()\n",
    "    .unstack(fill_value=0)\n",
    ")\n",
    "comunas_x_edad\n"
   ]
  },
  {
   "cell_type": "code",
   "execution_count": null,
   "metadata": {},
   "outputs": [],
   "source": [
    "normalized_edad = comunas_x_edad.pipe(normalize_rows)"
   ]
  },
  {
   "cell_type": "code",
   "execution_count": null,
   "metadata": {},
   "outputs": [],
   "source": [
    "sns.clustermap(\n",
    "    normalized_turnout.join(normalized_edad)\n",
    "    .corr()\n",
    "    .loc[normalized_turnout.columns, normalized_edad.columns], center=0, annot=True\n",
    ")"
   ]
  },
  {
   "cell_type": "code",
   "execution_count": null,
   "metadata": {},
   "outputs": [],
   "source": []
  }
 ],
 "metadata": {
  "interpreter": {
   "hash": "3b431e4a4586af4e16ce189057d2de0af20ea6b1cbc1afcb75152152b11d78ff"
  },
  "kernelspec": {
   "display_name": "Python 3.8.12 64-bit ('aves': conda)",
   "language": "python",
   "name": "python3"
  },
  "language_info": {
   "codemirror_mode": {
    "name": "ipython",
    "version": 3
   },
   "file_extension": ".py",
   "mimetype": "text/x-python",
   "name": "python",
   "nbconvert_exporter": "python",
   "pygments_lexer": "ipython3",
   "version": "3.8.12"
  },
  "orig_nbformat": 4
 },
 "nbformat": 4,
 "nbformat_minor": 2
}
