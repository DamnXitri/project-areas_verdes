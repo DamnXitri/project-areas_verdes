{
 "cells": [
  {
   "attachments": {},
   "cell_type": "markdown",
   "metadata": {},
   "source": [
    "# Imports"
   ]
  },
  {
   "cell_type": "code",
   "execution_count": null,
   "metadata": {},
   "outputs": [],
   "source": [
    "import sys\n",
    "from pathlib import Path\n",
    "\n",
    "AVES_ROOT = Path(\"../..\") if not \"google.colab\" in sys.modules else Path(\"aves_git\")\n",
    "import matplotlib as mpl\n",
    "import matplotlib.pyplot as plt\n",
    "import seaborn as sns\n",
    "import numpy as np\n",
    "import pandas as pd\n",
    "import geopandas as gpd\n",
    "\n",
    "# esto configura la calidad de la imagen. dependerá de tu resolución. el valor por omisión es 80\n",
    "# mpl.rcParams[\"figure.dpi\"] = 150\n",
    "# esto depende de las fuentes que tengas instaladas en el sistema.\n",
    "# mpl.rcParams[\"font.family\"] = \"Fira Sans Extra Condensed\""
   ]
  },
  {
   "attachments": {},
   "cell_type": "markdown",
   "metadata": {},
   "source": [
    "# Carga de Datos (EOD y areas verdes)"
   ]
  },
  {
   "cell_type": "code",
   "execution_count": null,
   "metadata": {},
   "outputs": [],
   "source": [
    "from aves.data import eod\n",
    "#load\n",
    "EOD_PATH = AVES_ROOT / \"data\" / \"external\" / \"EOD_STGO\"\n",
    "\n",
    "hogares = eod.read_homes(EOD_PATH)\n",
    "personas = eod.read_people(EOD_PATH)\n",
    "viajes = eod.read_trips(EOD_PATH)\n",
    "\n",
    "# print columns\n",
    "print(\"hogares: \\n\", hogares.columns)\n",
    "print(\"personas: \\n\", personas.columns)\n",
    "print(\"viajes: \\n\", viajes.columns)"
   ]
  },
  {
   "cell_type": "code",
   "execution_count": null,
   "metadata": {},
   "outputs": [],
   "source": [
    "# Load\n",
    "areas_verdes = (\n",
    "    gpd.read_file(AVES_ROOT / \"data\" / \"project\" / \"Superficie_de_Areas_Verdes_Santiago.geojson\")\n",
    ")\n",
    "print(\"areas_verdes: \\n\", areas_verdes.columns)"
   ]
  },
  {
   "attachments": {},
   "cell_type": "markdown",
   "metadata": {},
   "source": [
    "## Arreglos a los datos"
   ]
  },
  {
   "cell_type": "code",
   "execution_count": null,
   "metadata": {},
   "outputs": [],
   "source": [
    "# corregimos nombres de columna\n",
    "areas_verdes = areas_verdes.rename(columns={\"comuna\": \"Comuna\"})\n",
    "# corregimos comunas con distinto nombre\n",
    "areas_verdes[\"Comuna\"] = areas_verdes[\"Comuna\"].replace([\"ESTACION CENTRA\", \"NUNOA\", \"PAC\", \"PENALOLEN\"], [\"ESTACION CENTRAL\", \"ÑUÑOA\", \"PEDRO AGUIRRE CERDA\", \"PEÑALOLEN\"])\n",
    "# cambiamos areas_verdes con clase \"AV PARQUE\" a \"PARQUE\"\n",
    "areas_verdes[\"clase\"] = areas_verdes[\"clase\"].replace([\"AV PARQUE\"], [\"PARQUE\"])\n",
    "# cambiamos areas_verdes con estado \"DESAFECTADA e\" a \"DESAFECTADA\"\n",
    "areas_verdes[\"estado\"] = areas_verdes[\"estado\"].replace([\"DESAFECTADA VERDE e\"], [\"DESAFECTADA VERDE\"])\n",
    "\n",
    "print(\"Comunas no presentes en areas_verdes: \\n\", set(hogares[\"Comuna\"]) - set(areas_verdes[\"Comuna\"]))\n",
    "\n",
    "# filtramos hogares por comunas presentes en areas_verdes\n",
    "hogares = hogares[hogares[\"Comuna\"].isin(areas_verdes[\"Comuna\"].unique())]"
   ]
  },
  {
   "attachments": {},
   "cell_type": "markdown",
   "metadata": {},
   "source": [
    "# Visualizaciones"
   ]
  },
  {
   "attachments": {},
   "cell_type": "markdown",
   "metadata": {},
   "source": [
    "## Datos graficados por clase"
   ]
  },
  {
   "cell_type": "code",
   "execution_count": null,
   "metadata": {},
   "outputs": [],
   "source": [
    "ax = areas_verdes.plot(figsize=(10, 10), column='clase', legend=True, edgecolor=\"black\", linewidth=0.1)\n",
    "ax.set_title(\"Mapa de áreas verdes por clase\")\n",
    "ax.set_facecolor(\"lightgray\")"
   ]
  },
  {
   "cell_type": "code",
   "execution_count": null,
   "metadata": {},
   "outputs": [],
   "source": [
    "areas_verdes_santiago = areas_verdes[areas_verdes['Comuna'] == 'SANTIAGO']\n",
    "ax = areas_verdes_santiago.plot(figsize=(10, 10), column='clase', legend=True, edgecolor=\"black\", linewidth=0.1)\n",
    "ax.set_title(\"Mapa de áreas verdes en la comuna de Santiago por clase\")\n",
    "ax.set_facecolor(\"lightgray\")"
   ]
  },
  {
   "attachments": {},
   "cell_type": "markdown",
   "metadata": {},
   "source": [
    "### ¿Cual es la superficie total de los tipos de areas verdes?"
   ]
  },
  {
   "cell_type": "code",
   "execution_count": null,
   "metadata": {},
   "outputs": [],
   "source": [
    "# superficie total por tipo de área verde\n",
    "superficie_total_tipo = areas_verdes.groupby(\"clase\").agg({\"area_m2\": \"sum\", \"area_ha\": \"sum\"}).sort_values(\"clase\", ascending=False)\n",
    "superficie_total_tipo[\"area_km2\"] = superficie_total_tipo[\"area_m2\"] / 1e6\n",
    "\n",
    "# plot\n",
    "fig, ax = plt.subplots(figsize=(10, 10))\n",
    "sns.barplot(\n",
    "    data=superficie_total_tipo,\n",
    "    x=superficie_total_tipo.index,\n",
    "    y=\"area_ha\",\n",
    "    ax=ax,\n",
    "    palette=\"colorblind\",\n",
    "    dodge=False,\n",
    ")\n",
    "ax.set_xlabel(\"Tipo de área verde\")\n",
    "ax.set_ylabel(\"Área (ha)\")\n",
    "ax.set_title(\"Superficie total de áreas verdes por tipo\")\n",
    "sns.despine()\n",
    "\n",
    "superficie_total_tipo"
   ]
  },
  {
   "attachments": {},
   "cell_type": "markdown",
   "metadata": {},
   "source": [
    "\n",
    "### ¿Y su promedio de superficie?"
   ]
  },
  {
   "cell_type": "code",
   "execution_count": null,
   "metadata": {},
   "outputs": [],
   "source": [
    "# promedio de superficie por tipo\n",
    "superficie_promedio_tipo = areas_verdes.groupby(\"clase\").agg({\"area_m2\": \"mean\", \"area_ha\": \"mean\"}).sort_values(\"clase\", ascending=False)\n",
    "superficie_promedio_tipo[\"area_km2\"] = superficie_promedio_tipo[\"area_m2\"] / 1e6\n",
    "\n",
    "# plot\n",
    "fig, ax = plt.subplots(figsize=(10, 10))\n",
    "sns.barplot(\n",
    "    data=superficie_promedio_tipo,\n",
    "    x=superficie_promedio_tipo.index,\n",
    "    y=\"area_ha\",\n",
    "    ax=ax,\n",
    "    palette=\"colorblind\",\n",
    "    dodge=False,\n",
    ")\n",
    "ax.set_xlabel(\"Tipo de área verde\")\n",
    "ax.set_ylabel(\"Área (ha)\")\n",
    "ax.set_title(\"Superficie promedio de áreas verdes por tipo\")\n",
    "sns.despine()\n",
    "\n",
    "superficie_promedio_tipo"
   ]
  },
  {
   "attachments": {},
   "cell_type": "markdown",
   "metadata": {},
   "source": [
    "## Superficie y cantidad de areas verdes por comuna"
   ]
  },
  {
   "cell_type": "code",
   "execution_count": null,
   "metadata": {},
   "outputs": [],
   "source": [
    "area_comuna_clase = areas_verdes.groupby([\"Comuna\", \"clase\"]).agg({\"area_m2\": \"sum\", \"Comuna\": \"count\"}).rename(columns={\"Comuna\": \"n_areas\"}).reset_index()\n",
    "area_comuna_clase[\"area_ha\"] = area_comuna_clase[\"area_m2\"] / 10000\n",
    "\n",
    "# plot\n",
    "fig, ax = plt.subplots(figsize=(16, 9))\n",
    "sns.barplot(\n",
    "    data=area_comuna_clase,\n",
    "    x=\"area_ha\",\n",
    "    y=\"Comuna\",\n",
    "    hue=\"clase\",\n",
    "    ax=ax,\n",
    "    palette=\"colorblind\",\n",
    "    dodge=False,\n",
    ")\n",
    "ax.set_xlabel(\"Área (ha)\")\n",
    "ax.set_ylabel(\"Comuna\")\n",
    "ax.set_title(\"Superficie total de áreas verdes por comuna y clase\")\n",
    "ax.legend(title=\"Clase\", loc=\"upper right\")\n",
    "sns.despine()\n",
    "\n",
    "area_comuna_clase"
   ]
  },
  {
   "cell_type": "code",
   "execution_count": null,
   "metadata": {},
   "outputs": [],
   "source": [
    "cantidad_comuna_estado = areas_verdes.groupby([\"Comuna\", \"estado\"]).agg({\"area_m2\": \"sum\", \"Comuna\": \"count\"}).rename(columns={\"Comuna\": \"n_areas\"}).reset_index()\n",
    "cantidad_comuna_estado[\"area_ha\"] = cantidad_comuna_estado[\"area_m2\"] / 10000\n",
    "\n",
    "# plot\n",
    "fig, ax = plt.subplots(figsize=(16, 9))\n",
    "sns.barplot(\n",
    "    data=cantidad_comuna_estado,\n",
    "    x=\"area_ha\",\n",
    "    y=\"Comuna\",\n",
    "    hue=\"estado\",\n",
    "    ax=ax,\n",
    "    palette=\"colorblind\",\n",
    "    dodge=False,\n",
    ")\n",
    "ax.set_xlabel(\"Área (ha)\")\n",
    "ax.set_ylabel(\"Comuna\")\n",
    "ax.set_title(\"Superficie total de áreas verdes por comuna y estado\")\n",
    "ax.legend(title=\"Estado\", loc=\"upper right\")\n",
    "sns.despine()\n",
    "\n",
    "cantidad_comuna_estado"
   ]
  },
  {
   "attachments": {},
   "cell_type": "markdown",
   "metadata": {},
   "source": [
    "### ¿Cantidad de Areas verdes se relaciona con la poblacion?\n",
    "agregar grafico con areas verdes por cada 1000 habitantes"
   ]
  },
  {
   "cell_type": "code",
   "execution_count": null,
   "metadata": {},
   "outputs": [],
   "source": [
    "# obtenemos la población de cada comuna\n",
    "persona_hogar = personas.merge(hogares)\n",
    "poblacion_por_comuna = persona_hogar.groupby('Comuna')['FactorPersona'].sum().rename('population')\n",
    "\n",
    "# obtenemos areas verdes por comuna y clase\n",
    "area_comuna_clase = areas_verdes.groupby([\"Comuna\", \"clase\"]).agg({\"area_m2\": \"sum\", \"Comuna\": \"count\", \"area_ha\": \"sum\"}).rename(columns={\"Comuna\": \"n_areas\"}).reset_index()\n",
    "\n",
    "# obtenemos hectareas de areas verdes por 1000 habitantes\n",
    "area_comuna_clase_por_1000_habitantes = area_comuna_clase.merge(poblacion_por_comuna, on='Comuna')\n",
    "area_comuna_clase_por_1000_habitantes['area_ha_por_1000_habitantes'] = area_comuna_clase_por_1000_habitantes['area_ha'] / area_comuna_clase_por_1000_habitantes['population'] * 1000\n",
    "\n",
    "# plot\n",
    "fig, ax = plt.subplots(figsize=(16, 9))\n",
    "sns.barplot(\n",
    "    data=area_comuna_clase_por_1000_habitantes,\n",
    "    x=\"area_ha_por_1000_habitantes\",\n",
    "    y=\"Comuna\",\n",
    "    hue=\"clase\",\n",
    "    ax=ax,\n",
    "    palette=\"colorblind\",\n",
    "    dodge=False,\n",
    ")\n",
    "ax.set_xlabel(\"Área (ha) x 1000 habitantes\")\n",
    "ax.set_ylabel(\"Comuna\")\n",
    "ax.set_title(\"Superficie total de áreas verdes por comuna y clase por cada 1000 habitantes\")\n",
    "ax.legend(title=\"Clase\", loc=\"upper right\")\n",
    "sns.despine()\n",
    "\n",
    "area_comuna_clase_por_1000_habitantes"
   ]
  },
  {
   "attachments": {},
   "cell_type": "markdown",
   "metadata": {},
   "source": [
    "### ¿Cuanta gente vive cerca de cada area verde?\n"
   ]
  },
  {
   "cell_type": "code",
   "execution_count": null,
   "metadata": {},
   "outputs": [],
   "source": [
    "# consideramos solo parques, plazas y campos deportivos para este análisis\n",
    "\n",
    "# obtenemos parques, plazas y campos deportivos\n",
    "areas_verdes_ppcd = areas_verdes[areas_verdes['clase'].isin(['PARQUE', 'PLAZA', 'CAMPO DEPORTIVO'])]\n",
    "\n",
    "# definimos cuanto es \"cerca\" (en metros)\n",
    "cerca = 500\n",
    "\n",
    "# obtenemos la cantidad de hogares cerca de cada area verde\n",
    "\n"
   ]
  },
  {
   "attachments": {},
   "cell_type": "markdown",
   "metadata": {},
   "source": [
    "### ¿Cuanta gente trabaja cerca de cada area verde?"
   ]
  },
  {
   "cell_type": "code",
   "execution_count": null,
   "metadata": {},
   "outputs": [],
   "source": [
    "viajes_por_trabajo = viajes[viajes['Proposito'] == 'Al trabajo'].groupby('ZonaDestino')['FactorLaboralNormal'].sum().rename('viajes_por_trabajo').sort_values(ascending=False).reset_index()\n",
    "viajes_por_trabajo\n"
   ]
  },
  {
   "attachments": {},
   "cell_type": "markdown",
   "metadata": {},
   "source": [
    "### ¿Flujo de personas cerca de cada areas verde?\n"
   ]
  },
  {
   "cell_type": "code",
   "execution_count": null,
   "metadata": {},
   "outputs": [],
   "source": []
  },
  {
   "attachments": {},
   "cell_type": "markdown",
   "metadata": {},
   "source": [
    "### ¿Hay correlacion entre tasa de areas verdes por habitante e ingreso comunal promedio?"
   ]
  },
  {
   "cell_type": "code",
   "execution_count": null,
   "metadata": {},
   "outputs": [],
   "source": [
    "from aves.features.utils import weighted_mean\n",
    "from aves.visualization.tables import scatterplot\n",
    "\n",
    "# obtenemos ingreso promedio por comuna\n",
    "ingreso_comunal_promedio = hogares.groupby('Comuna').apply(lambda x: weighted_mean(x, 'IngresoHogar', 'FactorHogar')).rename('ingreso promedio')\n",
    "ingreso_comunal_promedio\n",
    "\n",
    "# obtenemos la población de cada comuna\n",
    "persona_hogar = personas.merge(hogares)\n",
    "poblacion_por_comuna = persona_hogar.groupby('Comuna')['FactorPersona'].sum().rename('population')\n",
    "\n",
    "# obtenemos areas verdes por comuna\n",
    "area_comuna = areas_verdes.groupby(\"Comuna\").agg({\"area_m2\": \"sum\", \"Comuna\": \"count\", \"area_ha\": \"sum\"}).rename(columns={\"Comuna\": \"n_areas\"}).reset_index()\n",
    "\n",
    "# obtenemos hectareas de areas verdes por 1000 habitantes\n",
    "area_comuna_por_1000_habitantes = area_comuna.merge(poblacion_por_comuna, on='Comuna')\n",
    "area_comuna_por_1000_habitantes['area_ha_por_1000_habitantes'] = area_comuna_por_1000_habitantes['area_ha'] / area_comuna_por_1000_habitantes['population'] * 1000\n",
    "\n",
    "df = area_comuna_por_1000_habitantes.merge(ingreso_comunal_promedio, on='Comuna')[['Comuna', 'area_ha_por_1000_habitantes', 'ingreso promedio']]\n",
    "df.index = df['Comuna']\n",
    "df = df.drop('Comuna', axis=1)\n",
    "\n",
    "#plot\n",
    "fig, ax = plt.subplots(figsize=(16, 9))\n",
    "scatterplot(\n",
    "    ax=ax,\n",
    "    df=df,\n",
    "    x=\"ingreso promedio\",\n",
    "    y=\"area_ha_por_1000_habitantes\",\n",
    "    annotate=True,\n",
    "    avoid_collisions=True,\n",
    "    text_args=dict(fontsize=\"small\"),\n",
    "    scatter_args=dict(color=\"purple\"),\n",
    ")\n",
    "ax.set_xlabel(\"Ingreso promedio\")\n",
    "ax.set_ylabel(\"Área (ha) x 1000 habitantes\")\n",
    "ax.set_title(\"Relación entre superficie de áreas verdes por cada 1000 habitantes e ingreso promedio por comuna\")\n",
    "ax.grid(alpha=0.5)\n",
    "ax.ticklabel_format(style=\"plain\")\n",
    "\n",
    "sns.despine(ax=ax, left=True, bottom=True, right=True, top=True)\n",
    "\n",
    "#df.sort_values('ingreso promedio', ascending=False)\n",
    "df.sort_values('area_ha_por_1000_habitantes', ascending=False)"
   ]
  },
  {
   "attachments": {},
   "cell_type": "markdown",
   "metadata": {},
   "source": [
    "### ¿Cual es la distribucion de distancia o tiempo de viaje a areas verdes en distintos sectores de la ciudad?"
   ]
  },
  {
   "cell_type": "code",
   "execution_count": null,
   "metadata": {},
   "outputs": [],
   "source": []
  },
  {
   "attachments": {},
   "cell_type": "markdown",
   "metadata": {},
   "source": [
    "### ¿Cual es el porcentaje de area verde con respecto al area total de la comuna?"
   ]
  },
  {
   "cell_type": "code",
   "execution_count": null,
   "metadata": {},
   "outputs": [],
   "source": []
  }
 ],
 "metadata": {
  "kernelspec": {
   "display_name": "Python (aves)",
   "language": "python",
   "name": "aves"
  },
  "language_info": {
   "codemirror_mode": {
    "name": "ipython",
    "version": 3
   },
   "file_extension": ".py",
   "mimetype": "text/x-python",
   "name": "python",
   "nbconvert_exporter": "python",
   "pygments_lexer": "ipython3",
   "version": "3.9.15"
  },
  "orig_nbformat": 4
 },
 "nbformat": 4,
 "nbformat_minor": 2
}
