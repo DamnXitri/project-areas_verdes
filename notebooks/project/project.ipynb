{
 "cells": [
  {
   "attachments": {},
   "cell_type": "markdown",
   "metadata": {},
   "source": [
    "# Imports"
   ]
  },
  {
   "cell_type": "code",
   "execution_count": null,
   "metadata": {},
   "outputs": [],
   "source": [
    "import sys\n",
    "from pathlib import Path\n",
    "from IPython.display import display\n",
    "\n",
    "AVES_ROOT = Path(\"../..\") if not \"google.colab\" in sys.modules else Path(\"aves_git\")\n",
    "import matplotlib as mpl\n",
    "import matplotlib.pyplot as plt\n",
    "import seaborn as sns\n",
    "import numpy as np\n",
    "import pandas as pd\n",
    "import geopandas as gpd\n",
    "\n",
    "# esto configura la calidad de la imagen. dependerá de tu resolución. el valor por omisión es 80\n",
    "mpl.rcParams[\"figure.dpi\"] = 150\n",
    "pd.options.display.max_columns = None\n",
    "# esto depende de las fuentes que tengas instaladas en el sistema.\n",
    "# mpl.rcParams[\"font.family\"] = \"Fira Sans Extra Condensed\""
   ]
  },
  {
   "attachments": {},
   "cell_type": "markdown",
   "metadata": {},
   "source": [
    "# Carga de Datos (EOD y areas verdes)"
   ]
  },
  {
   "cell_type": "code",
   "execution_count": null,
   "metadata": {},
   "outputs": [],
   "source": [
    "# Load\n",
    "areas_verdes = (\n",
    "    gpd.read_file(AVES_ROOT / \"data\" / \"project\" / \"Superficie_de_Areas_Verdes_Santiago.geojson\")\n",
    ")\n",
    "print(\"areas_verdes: \\n\", areas_verdes.columns)\n",
    "print(\"crs: \\n\", areas_verdes.crs)"
   ]
  },
  {
   "cell_type": "code",
   "execution_count": null,
   "metadata": {},
   "outputs": [],
   "source": [
    "areas_verdes[\"clase\"].unique()"
   ]
  },
  {
   "cell_type": "code",
   "execution_count": null,
   "metadata": {},
   "outputs": [],
   "source": [
    "from aves.data import eod\n",
    "#load\n",
    "EOD_PATH = AVES_ROOT / \"data\" / \"external\" / \"EOD_STGO\"\n",
    "\n",
    "eod_hogares = eod.read_homes(EOD_PATH)\n",
    "eod_personas = eod.read_people(EOD_PATH)\n",
    "eod_viajes = eod.read_trips(EOD_PATH)\n",
    "\n",
    "# Load\n",
    "zones : gpd.GeoDataFrame = (\n",
    "    gpd.read_file(AVES_ROOT / \"data\" / \"processed\" / \"scl_zonas_urbanas.json\")\n",
    "    .set_index(\"ID\")\n",
    "    .to_crs(areas_verdes.crs)\n",
    ")\n",
    "\n",
    "# print columns\n",
    "print(\"hogares: \\n\", eod_hogares.columns)\n",
    "print(\"personas: \\n\", eod_personas.columns)\n",
    "print(\"viajes: \\n\", eod_viajes.columns)\n",
    "print(\"zonas: \\n\", zones.columns)"
   ]
  },
  {
   "attachments": {},
   "cell_type": "markdown",
   "metadata": {},
   "source": [
    "## Arreglos a los datos"
   ]
  },
  {
   "cell_type": "code",
   "execution_count": null,
   "metadata": {},
   "outputs": [],
   "source": [
    "# fix comunas accents and uppercase\n",
    "from gensim.utils import deaccent\n",
    "\n",
    "zones[\"Comuna\"] = zones[\"NOM_COMUNA\"].str.upper()\n",
    "zones[\"Comuna\"] = zones[\"Comuna\"].str.replace('Ñ', 'NN').map(deaccent).str.replace('NN', 'Ñ')\n",
    "\n",
    "eod_viajes = eod_viajes[eod_viajes[\"ComunaOrigen\"].notna() & eod_viajes[\"ComunaDestino\"].notna()]\n",
    "eod_viajes[\"ComunaOrigen\"] = eod_viajes[\"ComunaOrigen\"].str.upper()\n",
    "eod_viajes[\"ComunaDestino\"] = eod_viajes[\"ComunaDestino\"].str.upper()\n",
    "\n",
    "eod_viajes[\"ComunaOrigen\"] = eod_viajes[\"ComunaOrigen\"].str.replace('Ñ', 'NN').map(deaccent).str.replace('NN', 'Ñ')\n",
    "eod_viajes[\"ComunaDestino\"] = eod_viajes[\"ComunaDestino\"].str.replace('Ñ', 'NN').map(deaccent).str.replace('NN', 'Ñ')\n",
    "\n",
    "eod_hogares[\"Comuna\"] = eod_hogares[\"Comuna\"].str.upper()\n",
    "eod_hogares[\"Comuna\"] = eod_hogares[\"Comuna\"].str.replace('Ñ', 'NN').map(deaccent).str.replace('NN', 'Ñ')\n",
    "\n",
    "areas_verdes.rename(columns={\"comuna\": \"Comuna\"}, inplace=True)\n",
    "areas_verdes[\"Comuna\"] = areas_verdes[\"Comuna\"].str.upper()\n",
    "areas_verdes[\"Comuna\"] = areas_verdes[\"Comuna\"].str.replace('Ñ', 'NN').map(deaccent).str.replace('NN', 'Ñ')\n",
    "# corregimos comunas con distinto nombre\n",
    "areas_verdes[\"Comuna\"] = areas_verdes[\"Comuna\"].replace([\"ESTACION CENTRA\", \"NUNOA\", \"PAC\", \"PENALOLEN\"], [\"ESTACION CENTRAL\", \"ÑUÑOA\", \"PEDRO AGUIRRE CERDA\", \"PEÑALOLEN\"])\n",
    "# cambiamos areas_verdes con clase \"AV PARQUE\" a \"PARQUE\"\n",
    "areas_verdes[\"clase\"] = areas_verdes[\"clase\"].replace([\"AV PARQUE\"], [\"PARQUE\"])\n",
    "# cambiamos areas_verdes con estado \"DESAFECTADA e\" a \"DESAFECTADA\"\n",
    "areas_verdes[\"estado\"] = areas_verdes[\"estado\"].replace([\"DESAFECTADA VERDE e\"], [\"DESAFECTADA VERDE\"])"
   ]
  },
  {
   "cell_type": "code",
   "execution_count": null,
   "metadata": {},
   "outputs": [],
   "source": [
    "print(\"Comunas de hogares no presentes en areas_verdes: \\n\", set(eod_hogares[\"Comuna\"]) - set(areas_verdes[\"Comuna\"]))\n",
    "print(\"Comunas de viajesDestinos no presentes en areas_verdes: \\n\", set(eod_viajes[\"ComunaDestino\"]) - set(areas_verdes[\"Comuna\"]))\n",
    "print(\"Comunas de zones no presentes en areas_verdes: \\n\", set(zones[\"Comuna\"]) - set(areas_verdes[\"Comuna\"]))\n",
    "print(\"Tales comunas no seran consideradas en el analisis\")\n",
    "\n",
    "# filtramos hogares por comunas presentes en areas_verdes\n",
    "eod_hogares = eod_hogares[eod_hogares[\"Comuna\"].isin(areas_verdes[\"Comuna\"].unique())]\n",
    "# filtramos viajes hacia comunas presentes en areas_verdes\n",
    "eod_viajes = eod_viajes[eod_viajes[\"ComunaDestino\"].isin(areas_verdes[\"Comuna\"].unique())]\n",
    "# filtramos zones por comunas presentes en areas_verdes\n",
    "zones = zones[zones[\"Comuna\"].isin(areas_verdes[\"Comuna\"].unique())]"
   ]
  },
  {
   "attachments": {},
   "cell_type": "markdown",
   "metadata": {},
   "source": [
    "# Visualizaciones"
   ]
  },
  {
   "attachments": {},
   "cell_type": "markdown",
   "metadata": {},
   "source": [
    "## Datos graficados por clase"
   ]
  },
  {
   "cell_type": "code",
   "execution_count": null,
   "metadata": {},
   "outputs": [],
   "source": [
    "fig, ax = plt.subplots(figsize=(10, 10))\n",
    "zones.plot(ax=ax, color=\"white\", edgecolor=\"black\", linewidth=0.1, alpha=1)\n",
    "areas_verdes.plot(ax=ax, column=\"clase\", legend=True, edgecolor=\"black\", linewidth=0.1, alpha=0.7)\n",
    "ax.set_title(\"Mapa de áreas verdes\")\n",
    "ax.set_facecolor(\"lightgray\")"
   ]
  },
  {
   "cell_type": "code",
   "execution_count": null,
   "metadata": {},
   "outputs": [],
   "source": [
    "_comuna = \"vitacura\".upper()\n",
    "_areas_verdes_comuna = areas_verdes[areas_verdes['Comuna'] == _comuna]\n",
    "_zones_comuna = zones[zones['Comuna'] == _comuna]\n",
    "fig, ax = plt.subplots(figsize=(10, 10))\n",
    "_zones_comuna.plot(ax=ax, color=\"white\", edgecolor=\"black\", linewidth=0.1, alpha=1)\n",
    "_areas_verdes_comuna.plot(ax=ax, column=\"clase\", legend=True, edgecolor=\"black\", linewidth=0.1, alpha=0.7)\n",
    "ax.set_title(f\"Mapa de áreas verdes en la comuna de: {_comuna}\")\n",
    "ax.set_facecolor(\"lightgray\")"
   ]
  },
  {
   "attachments": {},
   "cell_type": "markdown",
   "metadata": {},
   "source": [
    "### ¿Cual es la superficie total de los tipos de areas verdes?"
   ]
  },
  {
   "cell_type": "code",
   "execution_count": null,
   "metadata": {},
   "outputs": [],
   "source": [
    "# superficie total por tipo de área verde\n",
    "superficie_total_tipo = areas_verdes.groupby(\"clase\").agg({\"area_m2\": \"sum\", \"area_ha\": \"sum\"}).sort_values(\"clase\", ascending=False)\n",
    "superficie_total_tipo[\"area_km2\"] = superficie_total_tipo[\"area_m2\"] / 1e6\n",
    "\n",
    "# plot\n",
    "fig, ax = plt.subplots(figsize=(8, 5))\n",
    "sns.barplot(\n",
    "    data=superficie_total_tipo,\n",
    "    x=superficie_total_tipo.index,\n",
    "    y=\"area_ha\",\n",
    "    ax=ax,\n",
    "    palette=\"colorblind\",\n",
    "    dodge=False,\n",
    ")\n",
    "ax.set_xlabel(\"Tipo de área verde\")\n",
    "ax.set_ylabel(\"Área (ha)\")\n",
    "ax.set_title(\"Superficie total de áreas verdes por tipo\")\n",
    "sns.despine()\n",
    "\n",
    "superficie_total_tipo"
   ]
  },
  {
   "attachments": {},
   "cell_type": "markdown",
   "metadata": {},
   "source": [
    "\n",
    "### ¿Y su promedio de superficie?"
   ]
  },
  {
   "cell_type": "code",
   "execution_count": null,
   "metadata": {},
   "outputs": [],
   "source": [
    "# promedio de superficie por tipo\n",
    "superficie_promedio_tipo = areas_verdes.groupby(\"clase\").agg({\"area_m2\": \"mean\", \"area_ha\": \"mean\"}).sort_values(\"clase\", ascending=False)\n",
    "superficie_promedio_tipo[\"area_km2\"] = superficie_promedio_tipo[\"area_m2\"] / 1e6\n",
    "\n",
    "# plot\n",
    "fig, ax = plt.subplots(figsize=(10, 10))\n",
    "sns.barplot(\n",
    "    data=superficie_promedio_tipo,\n",
    "    x=superficie_promedio_tipo.index,\n",
    "    y=\"area_ha\",\n",
    "    ax=ax,\n",
    "    palette=\"colorblind\",\n",
    "    dodge=False,\n",
    ")\n",
    "ax.set_xlabel(\"Tipo de área verde\")\n",
    "ax.set_ylabel(\"Área (ha)\")\n",
    "ax.set_title(\"Superficie promedio de áreas verdes por tipo\")\n",
    "sns.despine()\n",
    "\n",
    "superficie_promedio_tipo"
   ]
  },
  {
   "attachments": {},
   "cell_type": "markdown",
   "metadata": {},
   "source": [
    "## Superficie y cantidad de areas verdes por comuna"
   ]
  },
  {
   "cell_type": "code",
   "execution_count": null,
   "metadata": {},
   "outputs": [],
   "source": [
    "filtro = ['PARQUE', 'PLAZA', 'CAMPO DEPORTIVO']\n",
    "\n",
    "area_comuna_clase = areas_verdes[\n",
    "    areas_verdes[\"clase\"].isin(filtro)\n",
    "    ].groupby([\"Comuna\", \"clase\"]).agg({\"area_m2\": \"sum\", \"Comuna\": \"count\"}).rename(columns={\"Comuna\": \"n_areas\"}).reset_index()\n",
    "area_comuna_clase[\"area_ha\"] = area_comuna_clase[\"area_m2\"] / 10000\n",
    "\n",
    "# plot\n",
    "fig, ax = plt.subplots(figsize=(16, 9))\n",
    "sns.barplot(\n",
    "    data=area_comuna_clase,\n",
    "    x=\"area_ha\",\n",
    "    y=\"Comuna\",\n",
    "    hue=\"clase\",\n",
    "    ax=ax,\n",
    "    palette=\"colorblind\",\n",
    "    dodge=False,\n",
    ")\n",
    "ax.set_xlabel(\"Área (ha)\")\n",
    "ax.set_ylabel(\"Comuna\")\n",
    "ax.set_title(\"Superficie total de áreas verdes por comuna y clase\")\n",
    "ax.legend(title=\"Clase\", loc=\"upper right\")\n",
    "sns.despine()\n",
    "\n",
    "area_comuna_clase"
   ]
  },
  {
   "cell_type": "code",
   "execution_count": null,
   "metadata": {},
   "outputs": [],
   "source": [
    "cantidad_comuna_estado = areas_verdes[\n",
    "    areas_verdes[\"clase\"].isin(filtro)\n",
    "].groupby([\"Comuna\", \"estado\"]).agg({\"area_m2\": \"sum\", \"Comuna\": \"count\"}).rename(columns={\"Comuna\": \"n_areas\"}).reset_index()\n",
    "cantidad_comuna_estado[\"area_ha\"] = cantidad_comuna_estado[\"area_m2\"] / 10000\n",
    "\n",
    "# plot\n",
    "fig, ax = plt.subplots(figsize=(16, 9))\n",
    "sns.barplot(\n",
    "    data=cantidad_comuna_estado,\n",
    "    x=\"area_ha\",\n",
    "    y=\"Comuna\",\n",
    "    hue=\"estado\",\n",
    "    ax=ax,\n",
    "    palette=\"colorblind\",\n",
    "    dodge=False,\n",
    ")\n",
    "ax.set_xlabel(\"Área (ha)\")\n",
    "ax.set_ylabel(\"Comuna\")\n",
    "ax.set_title(\"Superficie total de áreas verdes por comuna y estado\")\n",
    "ax.legend(title=\"Estado\", loc=\"upper right\")\n",
    "sns.despine()\n",
    "\n",
    "cantidad_comuna_estado"
   ]
  },
  {
   "attachments": {},
   "cell_type": "markdown",
   "metadata": {},
   "source": [
    "### ¿Cantidad de Areas verdes se relaciona con la poblacion?\n",
    "agregar grafico con areas verdes por cada 1000 habitantes"
   ]
  },
  {
   "cell_type": "code",
   "execution_count": null,
   "metadata": {},
   "outputs": [],
   "source": [
    "# obtenemos la población de cada comuna\n",
    "persona_hogar = eod_personas.merge(eod_hogares)\n",
    "poblacion_por_comuna = persona_hogar.groupby('Comuna')['FactorPersona'].sum().rename('population')\n",
    "\n",
    "# obtenemos areas verdes por comuna y clase\n",
    "area_comuna_clase = areas_verdes[\n",
    "    areas_verdes[\"clase\"].isin(filtro)\n",
    "].groupby([\"Comuna\", \"clase\"]).agg({\"area_m2\": \"sum\", \"Comuna\": \"count\", \"area_ha\": \"sum\"}).rename(columns={\"Comuna\": \"n_areas\"}).reset_index()\n",
    "\n",
    "# obtenemos hectareas de areas verdes por 1000 habitantes\n",
    "area_comuna_clase_por_1000_habitantes = area_comuna_clase.merge(poblacion_por_comuna, on='Comuna')\n",
    "area_comuna_clase_por_1000_habitantes['area_ha_por_1000_habitantes'] = area_comuna_clase_por_1000_habitantes['area_ha'] / area_comuna_clase_por_1000_habitantes['population'] * 1000\n",
    "\n",
    "# plot\n",
    "fig, ax = plt.subplots(figsize=(16, 9))\n",
    "sns.barplot(\n",
    "    data=area_comuna_clase_por_1000_habitantes,\n",
    "    x=\"area_ha_por_1000_habitantes\",\n",
    "    y=\"Comuna\",\n",
    "    hue=\"clase\",\n",
    "    ax=ax,\n",
    "    palette=\"colorblind\",\n",
    "    dodge=False,\n",
    ")\n",
    "ax.set_xlabel(\"Área (ha) x 1000 habitantes\")\n",
    "ax.set_ylabel(\"Comuna\")\n",
    "ax.set_title(\"Superficie total de áreas verdes por comuna y clase por cada 1000 habitantes\")\n",
    "ax.legend(title=\"Clase\", loc=\"upper right\")\n",
    "fig.text(0.02, 0.04, 'Fuente (Población comunal): Datos de población (FactorPersona) de la EOD 2012')\n",
    "sns.despine()\n",
    "\n",
    "area_comuna_clase_por_1000_habitantes"
   ]
  },
  {
   "attachments": {},
   "cell_type": "markdown",
   "metadata": {},
   "source": [
    "### ¿Cuanta gente vive cerca de cada area verde?\n"
   ]
  },
  {
   "cell_type": "code",
   "execution_count": null,
   "metadata": {},
   "outputs": [],
   "source": [
    "# consideramos solo parques, plazas y campos deportivos para este análisis\n",
    "filtro = ['PARQUE', 'PLAZA', 'CAMPO DEPORTIVO']\n",
    "# obtenemos parques, plazas y campos deportivos\n",
    "areas_verdes_ppcd = areas_verdes[areas_verdes['clase'].isin(filtro)]\n",
    "\n",
    "# definimos cuanto es \"cerca\" (en metros)\n",
    "cerca = 500\n",
    "# obtenemos centroides de areas verdes\n",
    "areas_verdes_ppcd['centroid'] = areas_verdes_ppcd['geometry'].centroid\n",
    "# hacemos un buffer de 500 metros\n",
    "areas_verdes_ppcd['buffer'] = areas_verdes_ppcd['centroid'].buffer(cerca)\n",
    "# obtenemos el area de cada buffer\n",
    "areas_verdes_ppcd['buffer_area'] = areas_verdes_ppcd['buffer'].area\n",
    "# obtenemos el area de cada buffer en hectareas\n",
    "areas_verdes_ppcd['buffer_area_ha'] = areas_verdes_ppcd['buffer_area'] / 10000\n",
    "\n",
    "\n",
    "# obtenemos la cantidad de hogares cerca de cada area verde\n",
    "\n"
   ]
  },
  {
   "attachments": {},
   "cell_type": "markdown",
   "metadata": {},
   "source": [
    "### ¿Cuanta gente trabaja cerca de cada area verde?"
   ]
  },
  {
   "cell_type": "code",
   "execution_count": null,
   "metadata": {},
   "outputs": [],
   "source": [
    "viajes_por_trabajo = eod_viajes[eod_viajes['Proposito'] == 'Al trabajo'].groupby('ZonaDestino')['FactorLaboralNormal'].sum().rename('viajes_por_trabajo').sort_values(ascending=False).reset_index()\n",
    "viajes_por_trabajo\n"
   ]
  },
  {
   "attachments": {},
   "cell_type": "markdown",
   "metadata": {},
   "source": [
    "### ¿Flujo de personas cerca de cada areas verde?\n"
   ]
  },
  {
   "cell_type": "code",
   "execution_count": null,
   "metadata": {},
   "outputs": [],
   "source": []
  },
  {
   "attachments": {},
   "cell_type": "markdown",
   "metadata": {},
   "source": [
    "### ¿Hay correlacion entre tasa de areas verdes por habitante e ingreso comunal promedio?"
   ]
  },
  {
   "cell_type": "code",
   "execution_count": null,
   "metadata": {},
   "outputs": [],
   "source": [
    "from aves.features.utils import weighted_mean\n",
    "from aves.visualization.tables import scatterplot\n",
    "\n",
    "# obtenemos ingreso promedio por comuna\n",
    "ingreso_comunal_promedio = eod_hogares.groupby('Comuna').apply(lambda x: weighted_mean(x, 'IngresoHogar', 'FactorHogar')).rename('ingreso promedio')\n",
    "ingreso_comunal_promedio\n",
    "\n",
    "# obtenemos la población de cada comuna\n",
    "persona_hogar = eod_personas.merge(eod_hogares)\n",
    "poblacion_por_comuna = persona_hogar.groupby('Comuna')['FactorPersona'].sum().rename('population')\n",
    "\n",
    "# obtenemos areas verdes por comuna\n",
    "area_comuna = areas_verdes[\n",
    "    areas_verdes[\"clase\"].isin(filtro)\n",
    "].groupby(\"Comuna\").agg({\"area_m2\": \"sum\", \"Comuna\": \"count\", \"area_ha\": \"sum\"}).rename(columns={\"Comuna\": \"n_areas\"}).reset_index()\n",
    "\n",
    "# obtenemos hectareas de areas verdes por 1000 habitantes\n",
    "area_comuna_por_1000_habitantes = area_comuna.merge(poblacion_por_comuna, on='Comuna')\n",
    "area_comuna_por_1000_habitantes['area_ha_por_1000_habitantes'] = area_comuna_por_1000_habitantes['area_ha'] / area_comuna_por_1000_habitantes['population'] * 1000\n",
    "\n",
    "df = area_comuna_por_1000_habitantes.merge(ingreso_comunal_promedio, on='Comuna')[['Comuna', 'area_ha_por_1000_habitantes', 'ingreso promedio']]\n",
    "df.index = df['Comuna']\n",
    "df = df.drop('Comuna', axis=1)\n",
    "\n",
    "#plot\n",
    "fig, ax = plt.subplots(figsize=(16, 9))\n",
    "scatterplot(\n",
    "    ax=ax,\n",
    "    df=df,\n",
    "    x=\"ingreso promedio\",\n",
    "    y=\"area_ha_por_1000_habitantes\",\n",
    "    annotate=True,\n",
    "    avoid_collisions=True,\n",
    "    text_args=dict(fontsize=\"small\"),\n",
    "    scatter_args=dict(color=\"purple\"),\n",
    ")\n",
    "ax.set_xlabel(\"Ingreso promedio\")\n",
    "ax.set_ylabel(\"Área (ha) x 1000 habitantes\")\n",
    "ax.set_title(\"Relación entre superficie de áreas verdes por cada 1000 habitantes e ingreso promedio por comuna\")\n",
    "ax.grid(alpha=0.5)\n",
    "ax.ticklabel_format(style=\"plain\")\n",
    "fig.text(0.02, 0.04, 'Fuente (Ingreso comunal): Datos de población (IngresoHogar x FactorHogar) de la EOD 2012')\n",
    "sns.despine(ax=ax, left=True, bottom=True, right=True, top=True)\n",
    "\n",
    "#df.sort_values('ingreso promedio', ascending=False)\n",
    "df.sort_values('area_ha_por_1000_habitantes', ascending=False)"
   ]
  },
  {
   "attachments": {},
   "cell_type": "markdown",
   "metadata": {},
   "source": [
    "### ¿Cual es la distribucion de distancia o tiempo de viaje a areas verdes en distintos sectores de la ciudad?"
   ]
  },
  {
   "cell_type": "code",
   "execution_count": null,
   "metadata": {},
   "outputs": [],
   "source": []
  },
  {
   "attachments": {},
   "cell_type": "markdown",
   "metadata": {},
   "source": [
    "### ¿Cual es el porcentaje de area verde con respecto al area total de la comuna?"
   ]
  },
  {
   "cell_type": "code",
   "execution_count": null,
   "metadata": {},
   "outputs": [],
   "source": []
  },
  {
   "attachments": {},
   "cell_type": "markdown",
   "metadata": {},
   "source": [
    "### ¿Como se distribuye la superficie de areas verdes?"
   ]
  },
  {
   "cell_type": "code",
   "execution_count": null,
   "metadata": {},
   "outputs": [],
   "source": [
    "# pasar areas verdes a punto (centroide)\n",
    "\n",
    "# change crs to a projected one to\n",
    "areas_verdes_centroids = areas_verdes[\n",
    "    areas_verdes[\"clase\"].isin(filtro)\n",
    "].to_crs(epsg=32719)\n",
    "areas_verdes_centroids['geometry'] = areas_verdes_centroids['geometry'].centroid\n",
    "# restore crs\n",
    "areas_verdes_centroids = areas_verdes_centroids.to_crs(epsg=4326)\n",
    "areas_verdes_centroids = areas_verdes_centroids[[\"FID\", \"Comuna\", \"estado\", \"area_ha\", \"estado_2\", \"layer\", \"clase\", \"geometry\"]].set_index(\"FID\")\n",
    "areas_verdes_centroids"
   ]
  },
  {
   "cell_type": "code",
   "execution_count": null,
   "metadata": {},
   "outputs": [],
   "source": [
    "fig, ax = plt.subplots(2, 1, figsize=(5, 9))\n",
    "zones.plot(ax=ax[0], color='grey', edgecolor=\"black\", linewidth=0.1, alpha=0.5)\n",
    "zones.plot(ax=ax[1], color='grey', edgecolor=\"black\", linewidth=0.1, alpha=0.5)\n",
    "\n",
    "areas_verdes[\n",
    "    areas_verdes[\"clase\"].isin(filtro)\n",
    "].plot(ax=ax[0], color=\"green\")\n",
    "areas_verdes_centroids.plot(\n",
    "    ax=ax[1], \n",
    "    color=\"green\",\n",
    "    markersize=1,\n",
    ")\n",
    "\n",
    "ax[0].set_title(\"Áreas verdes\")\n",
    "ax[1].set_title(\"Centroides de áreas verdes\")\n",
    "ax[0].set_axis_off()\n",
    "ax[1].set_axis_off()"
   ]
  },
  {
   "cell_type": "code",
   "execution_count": null,
   "metadata": {},
   "outputs": [],
   "source": [
    "zones[['Zona', 'geometry']]"
   ]
  },
  {
   "cell_type": "code",
   "execution_count": null,
   "metadata": {},
   "outputs": [],
   "source": [
    "zones_areas_verdes = gpd.sjoin(zones[['geometry']], areas_verdes_centroids, how='left', op='contains')\n",
    "zones_areas_verdes = zones_areas_verdes[['Comuna', 'estado', 'area_ha', 'estado_2', 'clase', 'geometry']]\n",
    "zones_areas_verdes"
   ]
  },
  {
   "cell_type": "code",
   "execution_count": null,
   "metadata": {},
   "outputs": [],
   "source": [
    "zone_disolved_areas_verdes = zones_areas_verdes.dissolve(\n",
    "    by='ID',\n",
    "    aggfunc={'area_ha': 'sum'}\n",
    ")\n",
    "zone_disolved_areas_verdes"
   ]
  },
  {
   "cell_type": "code",
   "execution_count": null,
   "metadata": {},
   "outputs": [],
   "source": [
    "fig, ax = plt.subplots(figsize=(16, 9))\n",
    "zone_disolved_areas_verdes.plot(ax=ax, column='area_ha', cmap='YlGn', legend=True, legend_kwds={'label': \"Área (ha)\"}, edgecolor='black', linewidth=0.1)\n",
    "ax.set_title(\"Superficie Total de Áreas verdes por zona\")\n",
    "ax.set_facecolor('lightgrey')\n",
    "ax.set_axis_off()\n",
    "sns.despine()\n",
    "fig.text(0.5, 0.05, \"Nota: Este mapa considera el centroide de cada área verde\", ha='center', fontsize=12)"
   ]
  },
  {
   "cell_type": "code",
   "execution_count": null,
   "metadata": {},
   "outputs": [],
   "source": [
    "fig, ax = plt.subplots(figsize=(16, 9))\n",
    "zone_disolved_areas_verdes.plot(ax=ax, column='area_ha', cmap='Greens', legend=True, legend_kwds={'label': \"Área (ha)\"}, edgecolor='black', linewidth=0.1)\n",
    "ax.set_title(\"Superficie Total de Áreas verdes por zona\")\n",
    "ax.set_facecolor('lightgrey')\n",
    "ax.set_axis_off()\n",
    "sns.despine()\n",
    "fig.text(0.5, 0.05, \"Nota: Este mapa considera el centroide de cada área verde\", ha='center', fontsize=12)"
   ]
  },
  {
   "attachments": {},
   "cell_type": "markdown",
   "metadata": {},
   "source": [
    "### ¿Y como se ve con respecto a los destinos y hogares?"
   ]
  },
  {
   "cell_type": "code",
   "execution_count": null,
   "metadata": {},
   "outputs": [],
   "source": [
    "viajes_persona = eod_viajes.merge(eod_personas)\n",
    "\n",
    "viajes_persona[\"PesoLaboral\"] = (\n",
    "    viajes_persona[\"FactorLaboralNormal\"] * viajes_persona[\"Factor_LaboralNormal\"]\n",
    ")\n",
    "\n",
    "viajes_persona = viajes_persona[pd.notnull(viajes_persona[\"PesoLaboral\"])]\n",
    "# destinos\n",
    "expanded_destinos_zonas = viajes_persona.groupby(['ZonaDestino'])['PesoLaboral'].sum().rename('atraccion').to_frame()\n",
    "expanded_destinos_zonas = zones.join(expanded_destinos_zonas, how='left', on='ID').fillna(0)\n",
    "fig, ax = plt.subplots(1, 1, figsize=(10, 10))\n",
    "expanded_destinos_zonas.plot(column=\"atraccion\", legend=True, ax=ax, cmap=\"Reds\", edgecolor=\"black\", linewidth=0.1)\n",
    "areas_verdes[areas_verdes[\"clase\"].isin(filtro)].plot(\n",
    "    color=\"green\", ax=ax, alpha=0.5\n",
    ")\n",
    "ax.set_title(\"Atracción de viajes por zona y áreas verdes\")\n",
    "ax.set_axis_off()"
   ]
  },
  {
   "cell_type": "code",
   "execution_count": null,
   "metadata": {},
   "outputs": [],
   "source": [
    "# hogares\n",
    "expanded_hogares_zonas = eod_hogares.groupby(\"Zona\")[\"FactorHogar\"].sum().to_frame()\n",
    "expanded_hogares_zonas = zones.join(expanded_hogares_zonas, how=\"left\", on=\"ID\").fillna(0).drop_duplicates()\n",
    "fig, ax = plt.subplots(1, 1, figsize=(10, 10))\n",
    "\n",
    "expanded_hogares_zonas.plot(column=\"FactorHogar\", legend=True, ax=ax, cmap=\"Blues\", edgecolor=\"black\", linewidth=0.1)\n",
    "areas_verdes[areas_verdes[\"clase\"].isin(filtro)].plot(\n",
    "    color=\"green\", ax=ax, alpha=0.5\n",
    ")\n",
    "ax.set_title(\"Hogares por zona y áreas verdes\")\n",
    "ax.set_facecolor(\"lightgrey\")\n",
    "ax.set_axis_off()"
   ]
  },
  {
   "attachments": {},
   "cell_type": "markdown",
   "metadata": {},
   "source": [
    "### Mejor mostremoslo en 3 graficos para comparar"
   ]
  },
  {
   "cell_type": "code",
   "execution_count": null,
   "metadata": {},
   "outputs": [],
   "source": [
    "zone_disolved_areas_verdes"
   ]
  },
  {
   "cell_type": "code",
   "execution_count": null,
   "metadata": {},
   "outputs": [],
   "source": [
    "expanded_destinos_zonas[[\"Comuna\", \"atraccion\"]]"
   ]
  },
  {
   "cell_type": "code",
   "execution_count": null,
   "metadata": {},
   "outputs": [],
   "source": [
    "expanded_hogares_zonas[[\"FactorHogar\"]]"
   ]
  },
  {
   "cell_type": "code",
   "execution_count": null,
   "metadata": {},
   "outputs": [],
   "source": [
    "multiples = zone_disolved_areas_verdes.join(expanded_destinos_zonas[[\"Comuna\", \"atraccion\"]], how=\"left\", on=\"ID\").join(expanded_hogares_zonas[[\"FactorHogar\"]], how=\"left\", on=\"ID\")\n",
    "multiples"
   ]
  },
  {
   "cell_type": "code",
   "execution_count": null,
   "metadata": {},
   "outputs": [],
   "source": [
    "fig, ax = plt.subplots(1, 3, figsize=(16, 10)) \n",
    "\n",
    "multiples[\n",
    "    [\"geometry\", \"atraccion\"]\n",
    "].plot(\n",
    "    column=\"atraccion\",\n",
    "    cmap=\"Reds\",\n",
    "    ax=ax[0],\n",
    "    edgecolor=\"black\",\n",
    "    linewidth=0.1,\n",
    ")\n",
    "multiples[\n",
    "    [\"geometry\", \"area_ha\"]\n",
    "].plot(\n",
    "    column=\"area_ha\",\n",
    "    cmap=\"Greens\",\n",
    "    ax=ax[1],\n",
    "    edgecolor=\"black\",\n",
    "    linewidth=0.1,\n",
    ")\n",
    "multiples[\n",
    "    [\"geometry\", \"FactorHogar\"]\n",
    "].plot(\n",
    "    column=\"FactorHogar\",\n",
    "    cmap=\"Blues\",\n",
    "    ax=ax[2],\n",
    "    edgecolor=\"black\",\n",
    "    linewidth=0.1,\n",
    ")\n",
    "\n",
    "ax[0].set_title(\"Atracción de viajes por zona\")\n",
    "ax[1].set_title(\"Superficie (ha) de áreas verdes por zona\")\n",
    "ax[2].set_title(\"Hogares por zona\")\n",
    "ax[0].set_axis_off()\n",
    "ax[1].set_axis_off()\n",
    "ax[2].set_axis_off()\n",
    "sns.despine()\n"
   ]
  }
 ],
 "metadata": {
  "kernelspec": {
   "display_name": "Python (aves)",
   "language": "python",
   "name": "aves"
  },
  "language_info": {
   "codemirror_mode": {
    "name": "ipython",
    "version": 3
   },
   "file_extension": ".py",
   "mimetype": "text/x-python",
   "name": "python",
   "nbconvert_exporter": "python",
   "pygments_lexer": "ipython3",
   "version": "3.9.15"
  },
  "orig_nbformat": 4
 },
 "nbformat": 4,
 "nbformat_minor": 2
}
